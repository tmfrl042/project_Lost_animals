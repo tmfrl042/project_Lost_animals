{
 "cells": [
  {
   "cell_type": "code",
   "execution_count": 1,
   "metadata": {},
   "outputs": [],
   "source": [
    "from selenium import webdriver\n",
    "from selenium.webdriver.common.keys import Keys\n",
    "import time\n",
    "import requests\n",
    "from bs4 import BeautifulSoup\n",
    "import sys\n",
    "import os\n",
    "import pandas as pd\n",
    "import numpy as np\n",
    "\n",
    "chromedriver=\"C:/LSW/PYDATAexam/Webdriver/chromedriver\"\n",
    "driver=webdriver.Chrome(chromedriver)\n",
    "url_list = []\n",
    "title_list = []\n",
    "writer_list = []\n",
    "blogname_list=[]\n",
    "content_list = []\n",
    "date_list=[]\n",
    "text = \"유기견 보호소\""
   ]
  },
  {
   "cell_type": "code",
   "execution_count": 2,
   "metadata": {},
   "outputs": [],
   "source": [
    "headers = {'User-Agent' : 'Mozilla/5.0 (Windows NT 10.0; Win64; x64)AppleWebKit/537.36 (KHTML, like Gecko) Chrome/73.0.3683.86 Safari/537.36'}"
   ]
  },
  {
   "cell_type": "code",
   "execution_count": 3,
   "metadata": {},
   "outputs": [
    {
     "name": "stdout",
     "output_type": "stream",
     "text": [
      "url 수집 끝, 해당 url 데이터 크롤링\n"
     ]
    }
   ],
   "source": [
    "for i in range(1, 3):  # 1~2페이지까지의 블로그 내용을 읽어옴\n",
    "    url = 'https://section.blog.naver.com/Search/Post.nhn?pageNo='+ str(i) + '&rangeType=ALL&orderBy=sim&keyword=' + text\n",
    "    driver.get(url)\n",
    "    time.sleep(1)\n",
    "    for j in range(0, 7): # 각 블로그 주소 저장\n",
    "        links=driver.find_elements_by_css_selector(\"#content > section > div.area_list_search > div > div > div.info_post > div.desc > a.desc_inner\")\n",
    "        writers=driver.find_elements_by_css_selector(\"#content > section > div.area_list_search > div > div > div.info_post > div.writer_info\")\n",
    "        titles=driver.find_elements_by_css_selector(\"#content > section > div.area_list_search > div > div > div.info_post > div.desc > a.desc_inner > strong > span\")\n",
    "\n",
    "        link = links[j].get_attribute('href')\n",
    "        url_list.append(link)\n",
    "        title=titles[j].text\n",
    "        title_list.append(title)\n",
    "        writer=writers[j].find_element_by_css_selector('em').text\n",
    "        writer_list.append(writer)\n",
    "        blog_name=writers[j].find_element_by_css_selector('span').text\n",
    "        blogname_list.append(blog_name)\n",
    "        write_date=writers[j].find_element_by_css_selector('.date').text\n",
    "        date_list.append(write_date)\n",
    "#print(len(url_list))\n",
    "print(\"url 수집 끝, 해당 url 데이터 크롤링\")"
   ]
  },
  {
   "cell_type": "code",
   "execution_count": 4,
   "metadata": {},
   "outputs": [],
   "source": [
    "for url in url_list: # 수집한 url 만큼 반복\n",
    "    driver.get(url) # 해당 url로 이동\n",
    " \n",
    "    driver.switch_to.frame('mainFrame')\n",
    "    overlays = \".se-main-container\" # 내용 크롤링\n",
    "\n",
    "    contents = driver.find_elements_by_css_selector(overlays)\n",
    "    content_list.append(contents[0].text.replace(\"\\n\",\" \"))"
   ]
  },
  {
   "cell_type": "code",
   "execution_count": 5,
   "metadata": {},
   "outputs": [
    {
     "name": "stdout",
     "output_type": "stream",
     "text": [
      "                                            title      writer  \\\n",
      "0                         유기견보호소 유기견보호센터 포메 꽃길만걷자        하루종일   \n",
      "1                       유기견보호소 강아지무료분양 말티즈 감사했어요.        두숲지기   \n",
      "2                                유기견보호소 그저 사랑스럽네요         데이지   \n",
      "3                                   유기견보호소 행복한 이유         찡종대   \n",
      "4                                 유기견보호소 뜻깊은 마음으로         룰디스   \n",
      "5                                유기동물보호소 유기견과의 만남      부자바이러스   \n",
      "6             서울 근교 유기견 봉사활동 후기 (김포 아지네마을 유기견보호소)          치콜   \n",
      "7           천안시보호소 유기견입양 / 아기강아지 성장, 접종, 중성화까지 일기        짱구소녀   \n",
      "8                     행동하는 동물사랑, 수도권 유기견 보호소 봉사활동        블랑키티   \n",
      "9   군산 유기견보호소 이정호 소장님의 '군산개린이쉼터'에 5월 정기후원 다녀왔습니다.        멍해묘해   \n",
      "10                      유기견입양 고려 중 유기견보호소 도그마루 방문      간헐적 폭식   \n",
      "11             유기견보호소 햄스터, 기니피그, 고슴도치를 입양하면 생기는 일     강아지언니스킵   \n",
      "12                  유기견보호소 기부라기엔 조금 창피한 소소한 지원 후기  보험디자이너 정태성   \n",
      "13                          중부대학교 유기견봉사 - 이용녀 보호소    마치집인냥구미호   \n",
      "\n",
      "                                              content           date  \n",
      "0   요즘 코로나로 인해서 많은 분들이 지치고 생활고에 힘든 일들이 많이 있다보니 주변에...   2021. 8. 19.  \n",
      "1   요즘은 확실히 펫샵보다 보호소에서 반려동물을 데려오려는 인식으로 바뀐게 진짜 맞는거...   2021. 8. 19.  \n",
      "2   예전에는 유기견이라고 하면 안쓰러운 얼굴과  좋지 않은 상태, 아픈 몸 등의 이미지...    2021. 6. 1.  \n",
      "3   요즘 코로나 때문에 다들 지치고 생활고에  시달리는지 주변에서 버려지는 동물들이  ...   2021. 4. 29.  \n",
      "4   요즘 시기가 시기인 만큼 재택근무를 하시는 분들도 많으시고 집에 있는 시간이 아무래...    2021. 4. 7.  \n",
      "5   우연히 퇴근하는 길에 주인을 잃고 거리를 방황하고 있는  강아지를 만나게 되었어요....    2021. 8. 9.  \n",
      "6   지지난주에 다녀온 서울 근교 유기견 봉사활동 후기를 적어볼게요 우선 제가 유기견 봉...   2021. 8. 17.  \n",
      "7   지난 5월 20일 천안시 유기견 보호소에서 강아지를 입양했어요.. 제 친구들은 다들...   2021. 7. 29.  \n",
      "8   행동하는 동물사랑, 수도권 유기견 보호소 봉사활동 봉사활동 오전조 제주도 유기견봉사...   2021. 1. 24.  \n",
      "9   안녕하세요.  멍해묘해입니다. ^^ 벌써 5월의 마지막주를 지나고 있습니다. 어제 ...   2021. 5. 26.  \n",
      "10  엄마가 혼자 적적하신 것 같아 강아지를 키우는건 어떨까 얘기가 나옴 이왕에 키울거면...   2021. 1. 12.  \n",
      "11  <유기견부터 햄스터,기니피그,고슴도치를 보호소 에서 입양하면 생기는 일, 바쁜 보호...   2021. 8. 17.  \n",
      "12  안녕하세요 두부, 보리 아빠 정태성 인사드립니다 유기견보호소에 소소한 지원을 하게 ...   2021. 6. 17.  \n",
      "13  2020년 10월 21일. 중부대학교 애완동물자원학과에서 유기견보호소 봉사 행사를 ...  2020. 12. 11.  \n"
     ]
    }
   ],
   "source": [
    "df1 = pd.DataFrame({'index':list[],'title': title_list,'writer': writer_list, 'content': content_list,'date':date_list})\n",
    "print(df1)"
   ]
  },
  {
   "cell_type": "code",
   "execution_count": 16,
   "metadata": {},
   "outputs": [
    {
     "name": "stdout",
     "output_type": "stream",
     "text": [
      "[1, 2, 3, 4, 5, 6, 7, 8, 9, 10, 11, 12, 13, 14]\n"
     ]
    }
   ],
   "source": [
    "k=list(range(1,len(title_list)+1))\n",
    "print(k)"
   ]
  },
  {
   "cell_type": "code",
   "execution_count": 6,
   "metadata": {},
   "outputs": [],
   "source": [
    "# CSV파일로 저장하기\n",
    "df1.to_csv(\"test_db.csv\",index=False,encoding=\"utf-8-sig\")\n",
    "# CSV파일 읽기\n",
    "df1 = pd.read_csv(\"test.csv\")"
   ]
  },
  {
   "cell_type": "code",
   "execution_count": 8,
   "metadata": {},
   "outputs": [
    {
     "name": "stdout",
     "output_type": "stream",
     "text": [
      "14\n"
     ]
    }
   ],
   "source": [
    "print(len(title_list))"
   ]
  },
  {
   "cell_type": "code",
   "execution_count": null,
   "metadata": {},
   "outputs": [],
   "source": []
  }
 ],
 "metadata": {
  "kernelspec": {
   "display_name": "Python 3",
   "language": "python",
   "name": "python3"
  },
  "language_info": {
   "codemirror_mode": {
    "name": "ipython",
    "version": 3
   },
   "file_extension": ".py",
   "mimetype": "text/x-python",
   "name": "python",
   "nbconvert_exporter": "python",
   "pygments_lexer": "ipython3",
   "version": "3.8.5"
  }
 },
 "nbformat": 4,
 "nbformat_minor": 4
}
